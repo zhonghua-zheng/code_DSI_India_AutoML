{
 "cells": [
  {
   "cell_type": "code",
   "execution_count": 1,
   "id": "a83421c8",
   "metadata": {},
   "outputs": [],
   "source": [
    "import xarray as xr\n",
    "import pandas as pd\n",
    "import numpy as np\n",
    "import gc\n",
    "import matplotlib.pyplot as plt\n",
    "\n",
    "# get the region of interest\n",
    "def sel_extent(ds):\n",
    "    return ds.sel(lat=slice(6,36),lon=slice(68,98))"
   ]
  },
  {
   "cell_type": "code",
   "execution_count": 2,
   "id": "19c14e15",
   "metadata": {},
   "outputs": [],
   "source": [
    "dd = {}\n",
    "dd[\"pm\"] = sel_extent(xr.open_dataset(\"../data/daily_surface_pm25_RH50.nc\"))\n",
    "dd[\"emission\"] = sel_extent(xr.open_dataset(\"../data/daily_emission.nc\"))\n",
    "dd[\"gas\"] = sel_extent(xr.open_dataset(\"../data/daily_gas_column.nc\"))\n",
    "dd[\"aod\"] = sel_extent(xr.open_dataset(\"../data/daily_aod.nc\"))\n",
    "dd[\"met\"] = sel_extent(xr.open_dataset(\"../data/daily_meteo.nc\"))\n",
    "\n",
    "mask = xr.open_dataset(\"../data/land_mask.nc\")\n",
    "r_mask = xr.open_dataset(\"../data/r_mask.nc\",engine=\"scipy\")"
   ]
  },
  {
   "cell_type": "code",
   "execution_count": 3,
   "id": "f827dad4",
   "metadata": {},
   "outputs": [],
   "source": [
    "# sum over the dust\n",
    "dd[\"emission\"][\"EmisDST_Natural\"] = dd[\"emission\"][\"EmisDST1_Natural\"]\\\n",
    "                                    +dd[\"emission\"][\"EmisDST2_Natural\"]\\\n",
    "                                    +dd[\"emission\"][\"EmisDST3_Natural\"]\\\n",
    "                                    +dd[\"emission\"][\"EmisDST4_Natural\"]"
   ]
  },
  {
   "cell_type": "code",
   "execution_count": 4,
   "id": "3bfb4e40",
   "metadata": {},
   "outputs": [],
   "source": [
    "feature_ml = {\n",
    "    \"pm\":[\"PM25\"],\n",
    "    \"gas\":['CO_trop', 'SO2_trop', 'NO2_trop', 'CH2O_trop', 'NH3_trop'],\n",
    "    \"aod\":['AOT_C', 'AOT_DUST_C'],\n",
    "    \"met\":['T2M', 'PBLH', 'U10M', 'V10M', 'PRECTOT', 'RH'],\n",
    "    \"emission\":['EmisDST_Natural', \n",
    "                'EmisNO_Fert', 'EmisNO_Lightning', 'EmisNO_Ship', 'EmisNO_Soil'],\n",
    "}\n",
    "\n",
    "feature_ls = [feature_ml[k] for k in feature_ml] #if k!=\"pm\"]\n",
    "# ref https://stackoverflow.com/questions/952914/how-to-make-a-flat-list-out-of-a-list-of-lists\n",
    "feature_ls = sum(feature_ls,[])"
   ]
  },
  {
   "cell_type": "markdown",
   "id": "1a6b5fe6",
   "metadata": {},
   "source": [
    "## with mask"
   ]
  },
  {
   "cell_type": "code",
   "execution_count": 5,
   "id": "8de74756",
   "metadata": {},
   "outputs": [
    {
     "data": {
      "text/plain": [
       "19"
      ]
     },
     "execution_count": 5,
     "metadata": {},
     "output_type": "execute_result"
    }
   ],
   "source": [
    "ds = xr.merge(dd[k][feature_ml[k]] for k in dd).where(mask[\"mask\"])\n",
    "loc_name = list(r_mask)\n",
    "df_train_ls = []\n",
    "df_test_ls = []\n",
    "\n",
    "for loc in loc_name:\n",
    "    # df_train\n",
    "    train_tmp = ds.sel(time=ds.time.dt.month.isin([1,2,3,5,6,7,9,10,11,12]))\\\n",
    "                  .where(r_mask[loc]).to_dataframe().reset_index().dropna()\n",
    "    train_tmp[\"region\"] = loc\n",
    "    df_train_ls.append(train_tmp.copy())\n",
    "    # df_test\n",
    "    test_tmp = ds.sel(time=ds.time.dt.month.isin([4,8]))\\\n",
    "                  .where(r_mask[loc]).to_dataframe().reset_index().dropna()\n",
    "    test_tmp[\"region\"] = loc\n",
    "    df_test_ls.append(test_tmp.copy())\n",
    "    \n",
    "train = pd.concat(df_train_ls)\n",
    "test = pd.concat(df_test_ls)\n",
    "del df_train_ls, df_test_ls\n",
    "gc.collect()"
   ]
  },
  {
   "cell_type": "markdown",
   "id": "5ed573fd",
   "metadata": {},
   "source": [
    "## save and load"
   ]
  },
  {
   "cell_type": "code",
   "execution_count": 6,
   "id": "bcfbf07b",
   "metadata": {},
   "outputs": [
    {
     "name": "stdout",
     "output_type": "stream",
     "text": [
      "shape of train: (1192592, 23)\n",
      "shape of test: (239303, 23)\n",
      "shape of train_l: (1192592, 23)\n",
      "shape of test_l: (239303, 23)\n",
      "passed the test!\n"
     ]
    }
   ],
   "source": [
    "# save\n",
    "train.to_parquet('../data/c_r_daily_train.gzip', compression='gzip') \n",
    "test.to_parquet('../data/c_r_daily_test.gzip', compression='gzip') \n",
    "\n",
    "print(\"shape of train:\", train.shape)\n",
    "print(\"shape of test:\", test.shape)\n",
    "\n",
    "# load \n",
    "train_l = pd.read_parquet('../data/c_r_daily_train.gzip')\n",
    "test_l = pd.read_parquet('../data/c_r_daily_test.gzip')\n",
    "\n",
    "print(\"shape of train_l:\", train_l.shape)\n",
    "print(\"shape of test_l:\", test_l.shape)\n",
    "\n",
    "# test\n",
    "np.testing.assert_array_equal(train[feature_ls].values, train_l[feature_ls].values)\n",
    "np.testing.assert_array_equal(test[feature_ls].values, test_l[feature_ls].values)\n",
    "print(\"passed the test!\")"
   ]
  }
 ],
 "metadata": {
  "kernelspec": {
   "display_name": "Python 3 (ipykernel)",
   "language": "python",
   "name": "python3"
  },
  "language_info": {
   "codemirror_mode": {
    "name": "ipython",
    "version": 3
   },
   "file_extension": ".py",
   "mimetype": "text/x-python",
   "name": "python",
   "nbconvert_exporter": "python",
   "pygments_lexer": "ipython3",
   "version": "3.8.0"
  }
 },
 "nbformat": 4,
 "nbformat_minor": 5
}
