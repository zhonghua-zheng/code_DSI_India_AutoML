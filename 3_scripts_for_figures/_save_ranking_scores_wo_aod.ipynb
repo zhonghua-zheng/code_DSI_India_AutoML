{
 "cells": [
  {
   "cell_type": "code",
   "execution_count": 1,
   "id": "d3bf2fd6",
   "metadata": {},
   "outputs": [],
   "source": [
    "import xgboost as xgb\n",
    "import xarray as xr\n",
    "import pandas as pd\n",
    "import numpy as np\n",
    "import gc\n",
    "from flaml import AutoML\n",
    "from sklearn.model_selection import train_test_split\n",
    "from sklearn.metrics import r2_score, mean_squared_error\n",
    "import matplotlib.pyplot as plt\n",
    "import logging \n",
    "import pickle\n",
    "import seaborn as sns\n",
    "# logging.disable(logging.CRITICAL)\n",
    "# import shap\n",
    "\n",
    "rc={'axes.labelsize': 15.0,\n",
    "    'font.size': 15.0, 'legend.fontsize': 15.0, \n",
    "    'axes.titlesize': 15.0,\n",
    "    'xtick.labelsize': 15.0,\n",
    "    'ytick.labelsize': 15.0}\n",
    "plt.rcParams.update(**rc)"
   ]
  },
  {
   "cell_type": "code",
   "execution_count": 2,
   "id": "a19d7eb9",
   "metadata": {},
   "outputs": [],
   "source": [
    "model_path = \"\"\n",
    "data_path_prefix = \"\" \n",
    "p_dict = {\"a\":model_path+\"all_gridcell/\", \n",
    "          \"c\":model_path+\"clusters/\",\n",
    "          \"r\":model_path+\"regions/\"}\n",
    "\n",
    "def get_model_path(spatial_scale,time_scale,gas_flag,loc):\n",
    "    if spatial_scale == \"r\":\n",
    "        p = p_dict[spatial_scale]+time_scale+\"_emission_met\"+gas_flag+\"_\"+loc+\".pkl\"\n",
    "    else:\n",
    "        p = p_dict[spatial_scale]+time_scale+\"_emission_met\"+gas_flag+\".pkl\"\n",
    "    return p\n",
    "        \n",
    "def load_model(spatial_scale,time_scale,gas_flag,loc):\n",
    "    p = get_model_path(spatial_scale,time_scale,gas_flag,loc)\n",
    "\n",
    "    with open(p, 'rb') as f:\n",
    "        # The protocol version used is detected automatically, so we do not\n",
    "        # have to specify it.\n",
    "        automl = pickle.load(f)\n",
    "        model = automl.model.estimator\n",
    "        model_name = automl._best_estimator\n",
    "        feature_ls = list(automl._X_train_all)\n",
    "    return model, model_name, feature_ls\n",
    "\n",
    "\n",
    "def get_ranking(model, model_name, feature_ls,spatial_scale,time_scale,gas_flag,loc):\n",
    "    if model_name == \"catboost\":\n",
    "        assert model.feature_names_ == feature_ls\n",
    "        df_feature  = pd.DataFrame({\"features\":model.feature_names_,\n",
    "                                    \"importance\":model.feature_importances_})\n",
    "    elif model_name == \"lgbm\":\n",
    "        assert model.feature_name_ == feature_ls\n",
    "        df_feature  = pd.DataFrame({\"features\":model.feature_name_,\n",
    "                                    \"importance\":model.feature_importances_})\n",
    "    elif model_name == \"xgboost\":\n",
    "        score_dict = model.get_score(importance_type='gain')\n",
    "        features = []\n",
    "        importance = []\n",
    "        for k in score_dict:\n",
    "            features.append(k)\n",
    "            importance.append(score_dict[k])\n",
    "        df_feature  = pd.DataFrame({\"features\":features,\n",
    "                                    \"importance\":importance})\n",
    "    elif model_name == \"extra_tree\":\n",
    "        df_feature = pd.DataFrame({\"features\":feature_ls,\n",
    "                                   \"importance\":model.feature_importances_})\n",
    "\n",
    "    if spatial_scale == \"r\":\n",
    "        colname = spatial_scale+\"_\"+time_scale+gas_flag+\"_\"+loc+\"_\"+model_name\n",
    "    else:\n",
    "        colname = spatial_scale+\"_\"+time_scale+gas_flag+\"_\"+model_name\n",
    "        \n",
    "    df_feature[colname] = df_feature[\"importance\"].rank(ascending=True)\n",
    "#     display(df_feature.sort_values(\"r_\"+model_name).head(10))\n",
    "    return df_feature[[\"features\",colname]]\n",
    "\n",
    "\n",
    "emission_ls = ['EmisDST_Natural', \n",
    "                'EmisNO_Fert', 'EmisNO_Lightning', 'EmisNO_Ship', 'EmisNO_Soil',\n",
    "                'EmisBC_Anthro', 'EmisBC_BioBurn', \n",
    "                'EmisCH2O_Anthro', 'EmisCH2O_BioBurn', \n",
    "                'EmisCO_Anthro', 'EmisCO_BioBurn', 'EmisCO_Ship', \n",
    "                'EmisNH3_Anthro', 'EmisNH3_BioBurn', 'EmisNH3_Natural', \n",
    "                'EmisNO_Aircraft', 'EmisNO_Anthro', 'EmisNO_BioBurn', \n",
    "                'EmisOC_Anthro', 'EmisOC_BioBurn',  \n",
    "                'EmisSO2_Aircraft', 'EmisSO2_Anthro', 'EmisSO2_BioBurn',\n",
    "                'EmisSO4_Anthro']\n",
    "aod_ls = ['AOT_C', 'AOT_DUST_C']\n",
    "met_ls = ['T2M', 'PBLH', 'U10M', 'V10M', 'PRECTOT', 'RH']\n",
    "gas_ls = ['CO_trop', 'SO2_trop', 'NO2_trop', 'CH2O_trop', 'NH3_trop']\n",
    "dd = {}\n",
    "for k in emission_ls:\n",
    "    dd[k] = \"emission\"\n",
    "# for k in aod_ls:\n",
    "#     dd[k] = \"aod\"\n",
    "for k in met_ls:\n",
    "    dd[k] = \"met\"\n",
    "for k in gas_ls:\n",
    "    dd[k] = \"gas\""
   ]
  },
  {
   "cell_type": "markdown",
   "id": "8164bba7",
   "metadata": {},
   "source": [
    "## with gas but without AOD"
   ]
  },
  {
   "cell_type": "code",
   "execution_count": 3,
   "id": "3bcee1d6",
   "metadata": {},
   "outputs": [
    {
     "name": "stdout",
     "output_type": "stream",
     "text": [
      "####### start daily #######\n"
     ]
    },
    {
     "data": {
      "image/png": "[encoded data removed]",
      "text/plain": [
       "<Figure size 432x288 with 1 Axes>"
      ]
     },
     "metadata": {
      "needs_background": "light"
     },
     "output_type": "display_data"
    },
    {
     "name": "stdout",
     "output_type": "stream",
     "text": [
      "####### finished daily #######\n",
      "####### start monthly_le #######\n"
     ]
    },
    {
     "data": {
      "image/png": "[encoded data removed]",
      "text/plain": [
       "<Figure size 432x288 with 1 Axes>"
      ]
     },
     "metadata": {
      "needs_background": "light"
     },
     "output_type": "display_data"
    },
    {
     "name": "stdout",
     "output_type": "stream",
     "text": [
      "####### finished monthly_le #######\n",
      "####### start monthly #######\n"
     ]
    },
    {
     "data": {
      "image/png": "[encoded data removed]",
      "text/plain": [
       "<Figure size 432x288 with 1 Axes>"
      ]
     },
     "metadata": {
      "needs_background": "light"
     },
     "output_type": "display_data"
    },
    {
     "name": "stdout",
     "output_type": "stream",
     "text": [
      "####### finished monthly #######\n"
     ]
    }
   ],
   "source": [
    "for time_scale in [\"daily\",\"monthly_le\",\"monthly\"]:\n",
    "    print(\"####### start\",time_scale,\"#######\")\n",
    "    for gas_flag in [\"_gas\"]:#,\"\"]:\n",
    "        df_ls = []\n",
    "        for spatial_scale in [\"r\",\"c\",\"a\"]:\n",
    "            if spatial_scale==\"r\":\n",
    "                for loc in [\"E\",\"S\",\"W\",\"N\"]:\n",
    "                    model, model_name, feature_ls = load_model(spatial_scale,time_scale,gas_flag,loc)\n",
    "                    df_tmp = get_ranking(model, model_name, feature_ls,spatial_scale,time_scale,gas_flag,loc)\n",
    "                    if loc == \"E\":\n",
    "                        df = df_tmp.copy()\n",
    "                    else:\n",
    "                        df = df.merge(df_tmp, on = \"features\", how = \"outer\")\n",
    "                    del model, model_name, feature_ls, df_tmp\n",
    "                    gc.collect()\n",
    "        #         display(df)\n",
    "                df[\"category\"] = df[\"features\"].map(dd)\n",
    "                # df.groupby(\"category\").mean().reset_index()\n",
    "                # qual = df.groupby(\"category\").agg([np.mean, np.std])\n",
    "                df_plot_tmp = df.set_index([\"features\",\"category\"]).stack().reset_index()\n",
    "                df_plot_tmp.columns = [\"features\",\"category\",\"region_model\",\"ranking\"]\n",
    "                new = df_plot_tmp[\"region_model\"].str.split(\"_\", expand=True)\n",
    "                if time_scale == \"monthly_le\":\n",
    "                    df_plot_tmp[\"location\"] = new[4].str.upper()\n",
    "                else:\n",
    "                    df_plot_tmp[\"location\"] = new[3].str.upper()\n",
    "                del df, new\n",
    "                gc.collect()\n",
    "                    \n",
    "            else:\n",
    "                model, model_name, feature_ls = load_model(spatial_scale,time_scale,gas_flag,loc)\n",
    "                df_plot_tmp = get_ranking(model, model_name, feature_ls,spatial_scale,time_scale,gas_flag,loc)\n",
    "                df_plot_tmp[\"category\"] = df_plot_tmp[\"features\"].map(dd)\n",
    "                df_plot_tmp[\"location\"] = spatial_scale.upper()         \n",
    "                colname = spatial_scale+\"_\"+time_scale+gas_flag+\"_\"+model_name\n",
    "                df_plot_tmp = df_plot_tmp.rename(columns={colname:\"ranking\"})\n",
    "                del model, model_name, feature_ls, colname\n",
    "            # merge    \n",
    "            df_ls.append(df_plot_tmp[[\"features\",\"category\",\"location\",\"ranking\"]].copy())\n",
    "            del df_plot_tmp\n",
    "            gc.collect()\n",
    "        \n",
    "        df_plot = pd.concat(df_ls, axis=0)        \n",
    "        g = sns.barplot(x = \"location\", y = \"ranking\", \n",
    "                    hue = \"category\", hue_order=[\"gas\",\"\",\"met\",\"emission\"],\n",
    "                    data=df_plot)\n",
    "        plt.ylabel(\"ranking score\")\n",
    "        plt.tight_layout()\n",
    "        if time_scale==\"monthly\":\n",
    "            plt.legend(bbox_to_anchor=(1.05, 1), loc=2, borderaxespad=0.)\n",
    "        else:\n",
    "#             g._legend.remove()\n",
    "            g.get_legend().remove()\n",
    "        plt.show()\n",
    "        \n",
    "        df_plot.to_csv(\"./ranking/\"+time_scale+\"_wo_aod.csv\",index=False)\n",
    "        del df_ls, df_plot\n",
    "        gc.collect()\n",
    "    print(\"####### finished\",time_scale,\"#######\")"
   ]
  }
 ],
 "metadata": {
  "kernelspec": {
   "display_name": "Python 3 (ipykernel)",
   "language": "python",
   "name": "python3"
  },
  "language_info": {
   "codemirror_mode": {
    "name": "ipython",
    "version": 3
   },
   "file_extension": ".py",
   "mimetype": "text/x-python",
   "name": "python",
   "nbconvert_exporter": "python",
   "pygments_lexer": "ipython3",
   "version": "3.8.0"
  }
 },
 "nbformat": 4,
 "nbformat_minor": 5
}
